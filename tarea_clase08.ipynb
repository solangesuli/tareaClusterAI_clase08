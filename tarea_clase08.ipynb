{
 "cells": [
  {
   "cell_type": "markdown",
   "metadata": {},
   "source": [
    "### En este trabajo se han utilizado extractos de las notebooks de clases pasadas del curso ClusterAI 2020"
   ]
  },
  {
   "cell_type": "code",
   "execution_count": 1,
   "metadata": {},
   "outputs": [],
   "source": [
    "# importamos las librerías necesarias para trabajar.\n",
    "import numpy as np\n",
    "import pandas as pd\n",
    "import matplotlib.pyplot as plt\n",
    "import matplotlib.cm as cm\n",
    "import seaborn as sns\n",
    "from sklearn import preprocessing"
   ]
  },
  {
   "cell_type": "code",
   "execution_count": 2,
   "metadata": {},
   "outputs": [],
   "source": [
    "#SK-Learn\n",
    "from sklearn.model_selection import train_test_split, GridSearchCV\n",
    "from sklearn.preprocessing import PolynomialFeatures\n",
    "\n",
    "from sklearn import preprocessing\n",
    "from sklearn.model_selection import train_test_split\n",
    "from sklearn.linear_model import LinearRegression\n",
    "from sklearn.svm import SVR\n",
    "from sklearn.svm import LinearSVR\n",
    "from sklearn.neighbors import KNeighborsRegressor\n",
    "from sklearn.metrics import r2_score, mean_squared_error, mean_absolute_error\n",
    "\n",
    "from sklearn.model_selection import GridSearchCV\n",
    "#Scalers\n",
    "#https://scikit-learn.org/stable/modules/classes.html#module-sklearn.preprocessing\n",
    "from sklearn.preprocessing import StandardScaler,MinMaxScaler\n",
    "#Modelos Lineales\n",
    "# https://scikit-learn.org/stable/modules/linear_model.html\n",
    "from sklearn.linear_model import LinearRegression , Ridge\n",
    "from sklearn.svm import SVR\n",
    "#Metricas\n",
    "from sklearn.metrics import r2_score, mean_squared_error, mean_absolute_error"
   ]
  },
  {
   "cell_type": "code",
   "execution_count": null,
   "metadata": {},
   "outputs": [],
   "source": [
    "### usar los datos de entrenamiento (training dataset) para entrenar un modelo de regresión \n",
    "### y predecir los valores para un nuevo set de inputs (test dataset)\n"
   ]
  },
  {
   "cell_type": "code",
   "execution_count": 3,
   "metadata": {},
   "outputs": [],
   "source": [
    "#abro los archivos a utilizar\n",
    "X_test = pd.read_csv(\"./X_test.csv\") #los usare mas adelante cuando ya tenga el mejor modelo elegido (notar que no tienen los valores de y)\n",
    "xy_train = pd.read_csv(\"./Xy_train.csv\") #uso los datos de train como si fuese mi dataset completo y los uso para entrenar y elegir el mejor modelo"
   ]
  },
  {
   "cell_type": "code",
   "execution_count": 4,
   "metadata": {},
   "outputs": [
    {
     "data": {
      "text/html": [
       "<div>\n",
       "<style scoped>\n",
       "    .dataframe tbody tr th:only-of-type {\n",
       "        vertical-align: middle;\n",
       "    }\n",
       "\n",
       "    .dataframe tbody tr th {\n",
       "        vertical-align: top;\n",
       "    }\n",
       "\n",
       "    .dataframe thead th {\n",
       "        text-align: right;\n",
       "    }\n",
       "</style>\n",
       "<table border=\"1\" class=\"dataframe\">\n",
       "  <thead>\n",
       "    <tr style=\"text-align: right;\">\n",
       "      <th></th>\n",
       "      <th>X</th>\n",
       "    </tr>\n",
       "  </thead>\n",
       "  <tbody>\n",
       "    <tr>\n",
       "      <th>0</th>\n",
       "      <td>6.170800</td>\n",
       "    </tr>\n",
       "    <tr>\n",
       "      <th>1</th>\n",
       "      <td>6.302022</td>\n",
       "    </tr>\n",
       "    <tr>\n",
       "      <th>2</th>\n",
       "      <td>8.689293</td>\n",
       "    </tr>\n",
       "    <tr>\n",
       "      <th>3</th>\n",
       "      <td>2.376897</td>\n",
       "    </tr>\n",
       "    <tr>\n",
       "      <th>4</th>\n",
       "      <td>2.707320</td>\n",
       "    </tr>\n",
       "    <tr>\n",
       "      <th>5</th>\n",
       "      <td>6.555949</td>\n",
       "    </tr>\n",
       "    <tr>\n",
       "      <th>6</th>\n",
       "      <td>8.492565</td>\n",
       "    </tr>\n",
       "    <tr>\n",
       "      <th>7</th>\n",
       "      <td>0.111064</td>\n",
       "    </tr>\n",
       "    <tr>\n",
       "      <th>8</th>\n",
       "      <td>9.121449</td>\n",
       "    </tr>\n",
       "    <tr>\n",
       "      <th>9</th>\n",
       "      <td>2.675377</td>\n",
       "    </tr>\n",
       "    <tr>\n",
       "      <th>10</th>\n",
       "      <td>3.242831</td>\n",
       "    </tr>\n",
       "    <tr>\n",
       "      <th>11</th>\n",
       "      <td>6.416299</td>\n",
       "    </tr>\n",
       "    <tr>\n",
       "      <th>12</th>\n",
       "      <td>9.158768</td>\n",
       "    </tr>\n",
       "    <tr>\n",
       "      <th>13</th>\n",
       "      <td>0.659650</td>\n",
       "    </tr>\n",
       "    <tr>\n",
       "      <th>14</th>\n",
       "      <td>4.682379</td>\n",
       "    </tr>\n",
       "    <tr>\n",
       "      <th>15</th>\n",
       "      <td>8.109528</td>\n",
       "    </tr>\n",
       "    <tr>\n",
       "      <th>16</th>\n",
       "      <td>4.961968</td>\n",
       "    </tr>\n",
       "    <tr>\n",
       "      <th>17</th>\n",
       "      <td>6.013856</td>\n",
       "    </tr>\n",
       "    <tr>\n",
       "      <th>18</th>\n",
       "      <td>7.149417</td>\n",
       "    </tr>\n",
       "    <tr>\n",
       "      <th>19</th>\n",
       "      <td>6.279854</td>\n",
       "    </tr>\n",
       "  </tbody>\n",
       "</table>\n",
       "</div>"
      ],
      "text/plain": [
       "           X\n",
       "0   6.170800\n",
       "1   6.302022\n",
       "2   8.689293\n",
       "3   2.376897\n",
       "4   2.707320\n",
       "5   6.555949\n",
       "6   8.492565\n",
       "7   0.111064\n",
       "8   9.121449\n",
       "9   2.675377\n",
       "10  3.242831\n",
       "11  6.416299\n",
       "12  9.158768\n",
       "13  0.659650\n",
       "14  4.682379\n",
       "15  8.109528\n",
       "16  4.961968\n",
       "17  6.013856\n",
       "18  7.149417\n",
       "19  6.279854"
      ]
     },
     "execution_count": 4,
     "metadata": {},
     "output_type": "execute_result"
    }
   ],
   "source": [
    "X_test"
   ]
  },
  {
   "cell_type": "code",
   "execution_count": 86,
   "metadata": {},
   "outputs": [
    {
     "data": {
      "text/plain": [
       "(20, 1)"
      ]
     },
     "execution_count": 86,
     "metadata": {},
     "output_type": "execute_result"
    }
   ],
   "source": [
    "np.shape(X_test)"
   ]
  },
  {
   "cell_type": "code",
   "execution_count": 5,
   "metadata": {},
   "outputs": [
    {
     "data": {
      "text/html": [
       "<div>\n",
       "<style scoped>\n",
       "    .dataframe tbody tr th:only-of-type {\n",
       "        vertical-align: middle;\n",
       "    }\n",
       "\n",
       "    .dataframe tbody tr th {\n",
       "        vertical-align: top;\n",
       "    }\n",
       "\n",
       "    .dataframe thead th {\n",
       "        text-align: right;\n",
       "    }\n",
       "</style>\n",
       "<table border=\"1\" class=\"dataframe\">\n",
       "  <thead>\n",
       "    <tr style=\"text-align: right;\">\n",
       "      <th></th>\n",
       "      <th>X</th>\n",
       "      <th>y</th>\n",
       "    </tr>\n",
       "  </thead>\n",
       "  <tbody>\n",
       "    <tr>\n",
       "      <th>0</th>\n",
       "      <td>2.273360</td>\n",
       "      <td>6.054685</td>\n",
       "    </tr>\n",
       "    <tr>\n",
       "      <th>1</th>\n",
       "      <td>3.167583</td>\n",
       "      <td>4.581428</td>\n",
       "    </tr>\n",
       "    <tr>\n",
       "      <th>2</th>\n",
       "      <td>7.973655</td>\n",
       "      <td>5.392507</td>\n",
       "    </tr>\n",
       "    <tr>\n",
       "      <th>3</th>\n",
       "      <td>6.762547</td>\n",
       "      <td>3.108068</td>\n",
       "    </tr>\n",
       "    <tr>\n",
       "      <th>4</th>\n",
       "      <td>3.911096</td>\n",
       "      <td>4.225744</td>\n",
       "    </tr>\n",
       "    <tr>\n",
       "      <th>...</th>\n",
       "      <td>...</td>\n",
       "      <td>...</td>\n",
       "    </tr>\n",
       "    <tr>\n",
       "      <th>95</th>\n",
       "      <td>3.787495</td>\n",
       "      <td>5.133706</td>\n",
       "    </tr>\n",
       "    <tr>\n",
       "      <th>96</th>\n",
       "      <td>2.759471</td>\n",
       "      <td>4.308327</td>\n",
       "    </tr>\n",
       "    <tr>\n",
       "      <th>97</th>\n",
       "      <td>9.661041</td>\n",
       "      <td>11.923565</td>\n",
       "    </tr>\n",
       "    <tr>\n",
       "      <th>98</th>\n",
       "      <td>0.582026</td>\n",
       "      <td>1.335725</td>\n",
       "    </tr>\n",
       "    <tr>\n",
       "      <th>99</th>\n",
       "      <td>4.087339</td>\n",
       "      <td>5.641851</td>\n",
       "    </tr>\n",
       "  </tbody>\n",
       "</table>\n",
       "<p>100 rows × 2 columns</p>\n",
       "</div>"
      ],
      "text/plain": [
       "           X          y\n",
       "0   2.273360   6.054685\n",
       "1   3.167583   4.581428\n",
       "2   7.973655   5.392507\n",
       "3   6.762547   3.108068\n",
       "4   3.911096   4.225744\n",
       "..       ...        ...\n",
       "95  3.787495   5.133706\n",
       "96  2.759471   4.308327\n",
       "97  9.661041  11.923565\n",
       "98  0.582026   1.335725\n",
       "99  4.087339   5.641851\n",
       "\n",
       "[100 rows x 2 columns]"
      ]
     },
     "execution_count": 5,
     "metadata": {},
     "output_type": "execute_result"
    }
   ],
   "source": [
    "xy_train"
   ]
  },
  {
   "cell_type": "code",
   "execution_count": 6,
   "metadata": {},
   "outputs": [],
   "source": [
    "#separa x_train y y_train\n",
    "X_train =  np.array(xy_train[[\"X\"]])\n",
    "Y_train =  np.array(xy_train[[\"y\"]])"
   ]
  },
  {
   "cell_type": "code",
   "execution_count": 7,
   "metadata": {},
   "outputs": [
    {
     "data": {
      "text/plain": [
       "(100, 1)"
      ]
     },
     "execution_count": 7,
     "metadata": {},
     "output_type": "execute_result"
    }
   ],
   "source": [
    "np.shape(X_train)"
   ]
  },
  {
   "cell_type": "code",
   "execution_count": 8,
   "metadata": {},
   "outputs": [
    {
     "data": {
      "image/png": "[encoded data removed]",
      "text/plain": [
       "<Figure size 432x288 with 1 Axes>"
      ]
     },
     "metadata": {
      "needs_background": "light"
     },
     "output_type": "display_data"
    }
   ],
   "source": [
    "#visualizo mi dataset\n",
    "plt.scatter(X_train, Y_train)\n",
    "plt.xlabel('X_train')\n",
    "plt.ylabel('Y_train')\n",
    "plt.show()"
   ]
  },
  {
   "cell_type": "markdown",
   "metadata": {},
   "source": [
    "## Split Train and Test Set"
   ]
  },
  {
   "cell_type": "code",
   "execution_count": 9,
   "metadata": {},
   "outputs": [],
   "source": [
    "#Divido el dataset entre Train y Test\n",
    "x_train, x_test, y_train, y_test = train_test_split(X_train,Y_train, test_size=0.3, random_state=1)\n",
    "# Separamos el set X con las features polinomicas (el set Y ya fue separado en la linea anterior) \n",
    "x_poly_train, x_poly_test = train_test_split(X_train, test_size=0.3, random_state=1)"
   ]
  },
  {
   "cell_type": "code",
   "execution_count": 10,
   "metadata": {},
   "outputs": [
    {
     "data": {
      "text/plain": [
       "(70, 1)"
      ]
     },
     "execution_count": 10,
     "metadata": {},
     "output_type": "execute_result"
    }
   ],
   "source": [
    "np.shape(x_train)"
   ]
  },
  {
   "cell_type": "code",
   "execution_count": 11,
   "metadata": {},
   "outputs": [
    {
     "data": {
      "text/plain": [
       "(70, 1)"
      ]
     },
     "execution_count": 11,
     "metadata": {},
     "output_type": "execute_result"
    }
   ],
   "source": [
    "np.shape(y_train)"
   ]
  },
  {
   "cell_type": "code",
   "execution_count": 12,
   "metadata": {},
   "outputs": [
    {
     "data": {
      "text/html": [
       "<div>\n",
       "<style scoped>\n",
       "    .dataframe tbody tr th:only-of-type {\n",
       "        vertical-align: middle;\n",
       "    }\n",
       "\n",
       "    .dataframe tbody tr th {\n",
       "        vertical-align: top;\n",
       "    }\n",
       "\n",
       "    .dataframe thead th {\n",
       "        text-align: right;\n",
       "    }\n",
       "</style>\n",
       "<table border=\"1\" class=\"dataframe\">\n",
       "  <thead>\n",
       "    <tr style=\"text-align: right;\">\n",
       "      <th></th>\n",
       "      <th>Model</th>\n",
       "      <th>Features</th>\n",
       "      <th>R2</th>\n",
       "      <th>MSE</th>\n",
       "      <th>MAE</th>\n",
       "    </tr>\n",
       "  </thead>\n",
       "  <tbody>\n",
       "  </tbody>\n",
       "</table>\n",
       "</div>"
      ],
      "text/plain": [
       "Empty DataFrame\n",
       "Columns: [Model, Features, R2, MSE, MAE]\n",
       "Index: []"
      ]
     },
     "execution_count": 12,
     "metadata": {},
     "output_type": "execute_result"
    }
   ],
   "source": [
    "# Vamos a crear un dataframe para guardar los resultados de cada estimador\n",
    "results_df = pd.DataFrame(columns=['Model','Features','R2','MSE','MAE'])\n",
    "results_df"
   ]
  },
  {
   "cell_type": "markdown",
   "metadata": {},
   "source": [
    "## LINEAR REGRESSION \n",
    "\n",
    "### Datos originales (sin escalar)"
   ]
  },
  {
   "cell_type": "code",
   "execution_count": 13,
   "metadata": {},
   "outputs": [],
   "source": [
    "#creo un modelo generico de regresion lineal\n",
    "lr = LinearRegression()"
   ]
  },
  {
   "cell_type": "code",
   "execution_count": 14,
   "metadata": {},
   "outputs": [
    {
     "data": {
      "text/plain": [
       "LinearRegression()"
      ]
     },
     "execution_count": 14,
     "metadata": {},
     "output_type": "execute_result"
    }
   ],
   "source": [
    "#Entrenamos al modelo\n",
    "#Ajusto el modelo de regresion lineal utilizando el set de train, tanto las features X como las samples Y\n",
    "lr.fit(x_train, y_train)"
   ]
  },
  {
   "cell_type": "code",
   "execution_count": 15,
   "metadata": {},
   "outputs": [],
   "source": [
    "# Usamos x_test para predecir con el mejor estimador -> ypred\n",
    "ypred = lr.predict(x_test)"
   ]
  },
  {
   "cell_type": "code",
   "execution_count": 16,
   "metadata": {},
   "outputs": [
    {
     "data": {
      "text/plain": [
       "(30, 1)"
      ]
     },
     "execution_count": 16,
     "metadata": {},
     "output_type": "execute_result"
    }
   ],
   "source": [
    "np.shape(ypred)"
   ]
  },
  {
   "cell_type": "code",
   "execution_count": null,
   "metadata": {},
   "outputs": [],
   "source": [
    "# calculo el error de mi modelo con las muestras de train = error de train\n",
    "#np.sqrt(mean_squared_error(ypred, Ypred))"
   ]
  },
  {
   "cell_type": "code",
   "execution_count": 17,
   "metadata": {},
   "outputs": [],
   "source": [
    "#Calculamos las metricas R2, MSE y MAE\n",
    "linear_r2 = r2_score(y_true=y_test, y_pred=ypred)\n",
    "linear_mse = mean_squared_error(y_true=y_test, y_pred=ypred)\n",
    "linear_mae = mean_absolute_error(y_true=y_test, y_pred=ypred)"
   ]
  },
  {
   "cell_type": "code",
   "execution_count": 18,
   "metadata": {},
   "outputs": [
    {
     "name": "stdout",
     "output_type": "stream",
     "text": [
      "R2 score: 0.383186\n",
      "MAE: 1.679251\n",
      "MSE: 4.779281\n"
     ]
    },
    {
     "data": {
      "image/png": "[encoded data removed]",
      "text/plain": [
       "<Figure size 432x288 with 1 Axes>"
      ]
     },
     "metadata": {
      "needs_background": "light"
     },
     "output_type": "display_data"
    }
   ],
   "source": [
    "#Vamos a plotear Predictions vs True values\n",
    "plt.scatter(ypred, y_test)\n",
    "plt.plot(np.arange(0,100),np.arange(0,100), 'r', label='Identity') #Linea identidad (Predictions = True Values)\n",
    "plt.xlabel('Predictions')\n",
    "plt.ylabel('True Values')\n",
    "plt.xlim((0,10))\n",
    "plt.ylim((0,20))\n",
    "plt.legend()\n",
    "print(f'R2 score: {linear_r2:.6f}')\n",
    "print(f'MAE: {linear_mae:.6f}')\n",
    "print(f'MSE: {linear_mse:.6f}')"
   ]
  },
  {
   "cell_type": "code",
   "execution_count": 19,
   "metadata": {},
   "outputs": [],
   "source": [
    "#Guardamos los resultados\n",
    "results_df = results_df.append({'Model':'Linear',\n",
    "                                'Features':'-',\n",
    "                                'R2':linear_r2,\n",
    "                                'MSE':linear_mse,\n",
    "                                'MAE':linear_mae},ignore_index=True)"
   ]
  },
  {
   "cell_type": "code",
   "execution_count": 20,
   "metadata": {},
   "outputs": [
    {
     "data": {
      "text/html": [
       "<div>\n",
       "<style scoped>\n",
       "    .dataframe tbody tr th:only-of-type {\n",
       "        vertical-align: middle;\n",
       "    }\n",
       "\n",
       "    .dataframe tbody tr th {\n",
       "        vertical-align: top;\n",
       "    }\n",
       "\n",
       "    .dataframe thead th {\n",
       "        text-align: right;\n",
       "    }\n",
       "</style>\n",
       "<table border=\"1\" class=\"dataframe\">\n",
       "  <thead>\n",
       "    <tr style=\"text-align: right;\">\n",
       "      <th></th>\n",
       "      <th>Model</th>\n",
       "      <th>Features</th>\n",
       "      <th>R2</th>\n",
       "      <th>MSE</th>\n",
       "      <th>MAE</th>\n",
       "    </tr>\n",
       "  </thead>\n",
       "  <tbody>\n",
       "    <tr>\n",
       "      <th>0</th>\n",
       "      <td>Linear</td>\n",
       "      <td>-</td>\n",
       "      <td>0.383186</td>\n",
       "      <td>4.779281</td>\n",
       "      <td>1.679251</td>\n",
       "    </tr>\n",
       "  </tbody>\n",
       "</table>\n",
       "</div>"
      ],
      "text/plain": [
       "    Model Features        R2       MSE       MAE\n",
       "0  Linear        -  0.383186  4.779281  1.679251"
      ]
     },
     "execution_count": 20,
     "metadata": {},
     "output_type": "execute_result"
    }
   ],
   "source": [
    "results_df"
   ]
  },
  {
   "cell_type": "markdown",
   "metadata": {},
   "source": [
    "## SCALER"
   ]
  },
  {
   "cell_type": "code",
   "execution_count": 21,
   "metadata": {},
   "outputs": [
    {
     "data": {
      "text/plain": [
       "StandardScaler()"
      ]
     },
     "execution_count": 21,
     "metadata": {},
     "output_type": "execute_result"
    }
   ],
   "source": [
    "# Definimos el escalador \n",
    "# # auto scaling train- set (mean = 0, std = 1)\n",
    "scaler = preprocessing.StandardScaler()\n",
    "scaler = scaler.fit(x_train) # Fiteamos para los x_train\n",
    "scaler\n",
    "\n",
    "# MIN-MAX SCALER\n",
    "# scaler = MinMaxScaler() # Pueden probar con otros\n",
    "# scaler = scaler.fit(x_train)# Fiteamos para los x_train\n",
    "# scaler"
   ]
  },
  {
   "cell_type": "code",
   "execution_count": 22,
   "metadata": {},
   "outputs": [],
   "source": [
    "# Transformamos los x_train y x_test\n",
    "x_train_scaled = scaler.transform(x_train)\n",
    "x_test_scaled = scaler.transform(x_test)\n",
    "\n",
    "# Aqui estamos agregando las features polinomicas LUEGO de escalar los datos\n",
    "grad_poly = 3\n",
    "x_train_poly_scaled = PolynomialFeatures(grad_poly).fit_transform(x_train_scaled)\n",
    "x_test_poly_scaled = PolynomialFeatures(grad_poly).fit_transform(x_test_scaled)"
   ]
  },
  {
   "cell_type": "code",
   "execution_count": 23,
   "metadata": {},
   "outputs": [
    {
     "data": {
      "text/plain": [
       "(30, 1)"
      ]
     },
     "execution_count": 23,
     "metadata": {},
     "output_type": "execute_result"
    }
   ],
   "source": [
    "x_test_scaled.shape"
   ]
  },
  {
   "cell_type": "code",
   "execution_count": 24,
   "metadata": {},
   "outputs": [
    {
     "data": {
      "text/plain": [
       "(70, 1)"
      ]
     },
     "execution_count": 24,
     "metadata": {},
     "output_type": "execute_result"
    }
   ],
   "source": [
    "x_train_scaled.shape"
   ]
  },
  {
   "cell_type": "code",
   "execution_count": 25,
   "metadata": {},
   "outputs": [
    {
     "data": {
      "text/plain": [
       "(70, 4)"
      ]
     },
     "execution_count": 25,
     "metadata": {},
     "output_type": "execute_result"
    }
   ],
   "source": [
    "x_train_poly_scaled.shape"
   ]
  },
  {
   "cell_type": "markdown",
   "metadata": {},
   "source": [
    "## LINEAR REGRESSION \n",
    "\n",
    "### Linear Features"
   ]
  },
  {
   "cell_type": "code",
   "execution_count": 26,
   "metadata": {},
   "outputs": [],
   "source": [
    "#Definimos el estimador\n",
    "est = LinearRegression()\n",
    "#Definimos diccionario con hyperparametros\n",
    "parameters = {'fit_intercept' : [False, True]}\n",
    "#Definimos la cantidad de folds para validar\n",
    "n_folds = 5\n",
    "#Definimos el objeto grid search con los parametros anteriores\n",
    "gs = GridSearchCV(est, param_grid=parameters, cv=n_folds, refit=True, scoring=\"neg_mean_squared_error\")"
   ]
  },
  {
   "cell_type": "code",
   "execution_count": 28,
   "metadata": {},
   "outputs": [
    {
     "data": {
      "text/plain": [
       "GridSearchCV(cv=5, estimator=LinearRegression(),\n",
       "             param_grid={'fit_intercept': [False, True]},\n",
       "             scoring='neg_mean_squared_error')"
      ]
     },
     "execution_count": 28,
     "metadata": {},
     "output_type": "execute_result"
    }
   ],
   "source": [
    "#Entrenamos\n",
    "gs.fit(x_train_scaled, y_train)"
   ]
  },
  {
   "cell_type": "code",
   "execution_count": 29,
   "metadata": {},
   "outputs": [
    {
     "name": "stdout",
     "output_type": "stream",
     "text": [
      "LinearRegression() \n",
      "\n",
      "{'fit_intercept': True} \n",
      "\n",
      "-3.141792077997614 \n",
      "\n"
     ]
    }
   ],
   "source": [
    "# Mostramos el mejor estimador, sus hyperparametros seleccionados y su resultado\n",
    "print(gs.best_estimator_, \"\\n\")\n",
    "print(gs.best_params_, \"\\n\")\n",
    "print(gs.best_score_, \"\\n\")"
   ]
  },
  {
   "cell_type": "code",
   "execution_count": 30,
   "metadata": {},
   "outputs": [],
   "source": [
    "# Usamos x_test (del train- test split) para predecir con el mejor estimador\n",
    "linear_prediction = gs.best_estimator_.predict(x_test_scaled)"
   ]
  },
  {
   "cell_type": "code",
   "execution_count": 31,
   "metadata": {},
   "outputs": [],
   "source": [
    "#Calculamos las metricas R2, MSE y MAE\n",
    "lineal_linear_r2 = r2_score(y_true=y_test, y_pred=linear_prediction)\n",
    "lineal_linear_mse = mean_squared_error(y_true=y_test, y_pred=linear_prediction)\n",
    "lineal_linear_mae = mean_absolute_error(y_true=y_test, y_pred=linear_prediction)"
   ]
  },
  {
   "cell_type": "code",
   "execution_count": 32,
   "metadata": {},
   "outputs": [
    {
     "name": "stdout",
     "output_type": "stream",
     "text": [
      "R2 score: 0.383186\n",
      "MAE: 1.679251\n",
      "MSE: 4.779281\n"
     ]
    },
    {
     "data": {
      "image/png": "[encoded data removed]",
      "text/plain": [
       "<Figure size 432x288 with 1 Axes>"
      ]
     },
     "metadata": {
      "needs_background": "light"
     },
     "output_type": "display_data"
    }
   ],
   "source": [
    "#Vamos a plotear Predictions vs True values\n",
    "plt.scatter(linear_prediction, y_test)\n",
    "plt.plot(np.arange(0,100),np.arange(0,100), 'r', label='Identity') #Linea identidad (Predictions = True Values)\n",
    "plt.xlabel('Predictions')\n",
    "plt.ylabel('True Values')\n",
    "plt.xlim((0,10))\n",
    "plt.ylim((0,20))\n",
    "plt.legend()\n",
    "print(f'R2 score: {lineal_linear_r2:.6f}')\n",
    "print(f'MAE: {lineal_linear_mae:.6f}')\n",
    "print(f'MSE: {lineal_linear_mse:.6f}')\n"
   ]
  },
  {
   "cell_type": "code",
   "execution_count": 33,
   "metadata": {},
   "outputs": [],
   "source": [
    "#Guardamos los resultados\n",
    "results_df = results_df.append({'Model':'Linear',\n",
    "                                'Features':'Linear',\n",
    "                                'R2':lineal_linear_r2,\n",
    "                                'MSE':lineal_linear_mse,\n",
    "                                'MAE':lineal_linear_mae},ignore_index=True)\n"
   ]
  },
  {
   "cell_type": "code",
   "execution_count": 34,
   "metadata": {},
   "outputs": [
    {
     "data": {
      "text/html": [
       "<div>\n",
       "<style scoped>\n",
       "    .dataframe tbody tr th:only-of-type {\n",
       "        vertical-align: middle;\n",
       "    }\n",
       "\n",
       "    .dataframe tbody tr th {\n",
       "        vertical-align: top;\n",
       "    }\n",
       "\n",
       "    .dataframe thead th {\n",
       "        text-align: right;\n",
       "    }\n",
       "</style>\n",
       "<table border=\"1\" class=\"dataframe\">\n",
       "  <thead>\n",
       "    <tr style=\"text-align: right;\">\n",
       "      <th></th>\n",
       "      <th>Model</th>\n",
       "      <th>Features</th>\n",
       "      <th>R2</th>\n",
       "      <th>MSE</th>\n",
       "      <th>MAE</th>\n",
       "    </tr>\n",
       "  </thead>\n",
       "  <tbody>\n",
       "    <tr>\n",
       "      <th>0</th>\n",
       "      <td>Linear</td>\n",
       "      <td>-</td>\n",
       "      <td>0.383186</td>\n",
       "      <td>4.779281</td>\n",
       "      <td>1.679251</td>\n",
       "    </tr>\n",
       "    <tr>\n",
       "      <th>1</th>\n",
       "      <td>Linear</td>\n",
       "      <td>Linear</td>\n",
       "      <td>0.383186</td>\n",
       "      <td>4.779281</td>\n",
       "      <td>1.679251</td>\n",
       "    </tr>\n",
       "  </tbody>\n",
       "</table>\n",
       "</div>"
      ],
      "text/plain": [
       "    Model Features        R2       MSE       MAE\n",
       "0  Linear        -  0.383186  4.779281  1.679251\n",
       "1  Linear   Linear  0.383186  4.779281  1.679251"
      ]
     },
     "execution_count": 34,
     "metadata": {},
     "output_type": "execute_result"
    }
   ],
   "source": [
    "results_df"
   ]
  },
  {
   "cell_type": "markdown",
   "metadata": {},
   "source": [
    "### Polynomial Features\n",
    "\n",
    "Ahora vamos a usar los mismos parametros, pero vamos a entrenar con el set de features polinomicas.\n",
    "Este mismo proceso lo vamos a repetir para los otros estimadores"
   ]
  },
  {
   "cell_type": "code",
   "execution_count": 35,
   "metadata": {},
   "outputs": [
    {
     "name": "stdout",
     "output_type": "stream",
     "text": [
      "LinearRegression(fit_intercept=False) \n",
      "\n",
      "{'fit_intercept': False} \n",
      "\n",
      "-0.5712700995317975 \n",
      "\n"
     ]
    }
   ],
   "source": [
    "#Usamos los mismos parametros para este nuevo GS.\n",
    "gs = GridSearchCV(est, param_grid=parameters,refit=True, cv=n_folds, scoring=\"neg_mean_squared_error\")\n",
    "#Entrenamos\n",
    "gs.fit(x_train_poly_scaled, y_train)\n",
    "# Mostramos el mejor estimador, sus hyperparametros seleccionados y su resultado\n",
    "print(gs.best_estimator_, \"\\n\")\n",
    "print(gs.best_params_, \"\\n\")\n",
    "print(gs.best_score_, \"\\n\")"
   ]
  },
  {
   "cell_type": "code",
   "execution_count": 36,
   "metadata": {},
   "outputs": [],
   "source": [
    "# Predecimos para el set polinomico\n",
    "poly_linear_prediction = gs.best_estimator_.predict(x_test_poly_scaled)\n",
    "\n",
    "# Calculamos las metricas R2,MSE y MAE\n",
    "poly_linear_r2 = r2_score(y_true=y_test , y_pred=poly_linear_prediction)\n",
    "poly_linear_mse = mean_squared_error(y_true=y_test , y_pred=poly_linear_prediction)\n",
    "poly_linear_mae = mean_absolute_error(y_true=y_test , y_pred=poly_linear_prediction)"
   ]
  },
  {
   "cell_type": "code",
   "execution_count": 37,
   "metadata": {},
   "outputs": [
    {
     "name": "stdout",
     "output_type": "stream",
     "text": [
      "R2 score: 0.909096\n",
      "MAE: 0.682274\n",
      "MSE: 0.704351\n"
     ]
    },
    {
     "data": {
      "image/png": "[encoded data removed]",
      "text/plain": [
       "<Figure size 432x288 with 1 Axes>"
      ]
     },
     "metadata": {
      "needs_background": "light"
     },
     "output_type": "display_data"
    }
   ],
   "source": [
    "#Vamos a plotear Predictions vs True values del set polinomico\n",
    "plt.scatter(poly_linear_prediction, y_test)\n",
    "plt.plot(np.arange(0,100),np.arange(0,100), 'r', label='Identity')\n",
    "plt.xlabel('Predictions')\n",
    "plt.ylabel('True Values')\n",
    "plt.xlim((0,10))\n",
    "plt.ylim((0,20))\n",
    "plt.legend()\n",
    "print(f'R2 score: {poly_linear_r2:.6f}')\n",
    "print(f'MAE: {poly_linear_mae:.6f}')\n",
    "print(f'MSE: {poly_linear_mse:.6f}')"
   ]
  },
  {
   "cell_type": "code",
   "execution_count": 38,
   "metadata": {},
   "outputs": [],
   "source": [
    "results_df = results_df.append({'Model':'Linear',\n",
    "                                'Features':'Poly',\n",
    "                                'R2':poly_linear_r2,\n",
    "                                'MSE':poly_linear_mse,\n",
    "                                'MAE':poly_linear_mae},ignore_index=True)"
   ]
  },
  {
   "cell_type": "code",
   "execution_count": 39,
   "metadata": {},
   "outputs": [
    {
     "data": {
      "text/html": [
       "<div>\n",
       "<style scoped>\n",
       "    .dataframe tbody tr th:only-of-type {\n",
       "        vertical-align: middle;\n",
       "    }\n",
       "\n",
       "    .dataframe tbody tr th {\n",
       "        vertical-align: top;\n",
       "    }\n",
       "\n",
       "    .dataframe thead th {\n",
       "        text-align: right;\n",
       "    }\n",
       "</style>\n",
       "<table border=\"1\" class=\"dataframe\">\n",
       "  <thead>\n",
       "    <tr style=\"text-align: right;\">\n",
       "      <th></th>\n",
       "      <th>Model</th>\n",
       "      <th>Features</th>\n",
       "      <th>R2</th>\n",
       "      <th>MSE</th>\n",
       "      <th>MAE</th>\n",
       "    </tr>\n",
       "  </thead>\n",
       "  <tbody>\n",
       "    <tr>\n",
       "      <th>0</th>\n",
       "      <td>Linear</td>\n",
       "      <td>-</td>\n",
       "      <td>0.383186</td>\n",
       "      <td>4.779281</td>\n",
       "      <td>1.679251</td>\n",
       "    </tr>\n",
       "    <tr>\n",
       "      <th>1</th>\n",
       "      <td>Linear</td>\n",
       "      <td>Linear</td>\n",
       "      <td>0.383186</td>\n",
       "      <td>4.779281</td>\n",
       "      <td>1.679251</td>\n",
       "    </tr>\n",
       "    <tr>\n",
       "      <th>2</th>\n",
       "      <td>Linear</td>\n",
       "      <td>Poly</td>\n",
       "      <td>0.909096</td>\n",
       "      <td>0.704351</td>\n",
       "      <td>0.682274</td>\n",
       "    </tr>\n",
       "  </tbody>\n",
       "</table>\n",
       "</div>"
      ],
      "text/plain": [
       "    Model Features        R2       MSE       MAE\n",
       "0  Linear        -  0.383186  4.779281  1.679251\n",
       "1  Linear   Linear  0.383186  4.779281  1.679251\n",
       "2  Linear     Poly  0.909096  0.704351  0.682274"
      ]
     },
     "execution_count": 39,
     "metadata": {},
     "output_type": "execute_result"
    }
   ],
   "source": [
    "results_df"
   ]
  },
  {
   "cell_type": "markdown",
   "metadata": {},
   "source": [
    "# Support Vector Regression\n"
   ]
  },
  {
   "cell_type": "code",
   "execution_count": 40,
   "metadata": {},
   "outputs": [],
   "source": [
    "# Ahora cambiamos el estimador, usaremos SVR\n",
    "est = SVR(max_iter=25000)\n",
    "# Lista del parametro lambda (parametro 'alpha')\n",
    "parameters = {'C' : [1000,1500,2000,3000,5000],\n",
    "              'epsilon' : [0.001, 0.01, 0.1,1, 10,100],\n",
    "             'gamma':[0.001, 0.01, 0.1,1, 10,100]}\n",
    "# Definimos nuevamente el objeto GS con los parametros previamente definidos\n",
    "gs = GridSearchCV(est, param_grid=parameters,refit=True,\n",
    "                  cv=n_folds, scoring=\"neg_mean_squared_error\",\n",
    "                  verbose=3, n_jobs=3)"
   ]
  },
  {
   "cell_type": "markdown",
   "metadata": {},
   "source": [
    "### Datos originales (sin escalar)"
   ]
  },
  {
   "cell_type": "code",
   "execution_count": 41,
   "metadata": {},
   "outputs": [
    {
     "name": "stdout",
     "output_type": "stream",
     "text": [
      "Fitting 5 folds for each of 180 candidates, totalling 900 fits\n"
     ]
    },
    {
     "name": "stderr",
     "output_type": "stream",
     "text": [
      "[Parallel(n_jobs=3)]: Using backend LokyBackend with 3 concurrent workers.\n",
      "[Parallel(n_jobs=3)]: Done  40 tasks      | elapsed:    0.5s\n"
     ]
    },
    {
     "name": "stdout",
     "output_type": "stream",
     "text": [
      "SVR(C=1500, gamma=0.1, max_iter=25000) \n",
      "\n",
      "{'C': 1500, 'epsilon': 0.1, 'gamma': 0.1} \n",
      "\n",
      "-0.6060680268170617 \n",
      "\n"
     ]
    },
    {
     "name": "stderr",
     "output_type": "stream",
     "text": [
      "[Parallel(n_jobs=3)]: Done 900 out of 900 | elapsed:    1.3s finished\n",
      "D:\\Python\\lib\\site-packages\\sklearn\\utils\\validation.py:73: DataConversionWarning: A column-vector y was passed when a 1d array was expected. Please change the shape of y to (n_samples, ), for example using ravel().\n",
      "  return f(**kwargs)\n"
     ]
    }
   ],
   "source": [
    "# Entrenamos\n",
    "gs.fit(x_train, y_train)\n",
    "print(gs.best_estimator_, \"\\n\")\n",
    "print(gs.best_params_, \"\\n\")\n",
    "print(gs.best_score_, \"\\n\")"
   ]
  },
  {
   "cell_type": "code",
   "execution_count": 42,
   "metadata": {},
   "outputs": [],
   "source": [
    "# Prediccion + Metricas\n",
    "svr_prediction = gs.best_estimator_.predict(x_test)\n",
    "svr_r2 = r2_score(y_true=y_test, y_pred=svr_prediction)\n",
    "svr_mse = mean_squared_error(y_true=y_test, y_pred=svr_prediction)\n",
    "svr_mae = mean_absolute_error(y_true=y_test, y_pred=svr_prediction)"
   ]
  },
  {
   "cell_type": "code",
   "execution_count": 43,
   "metadata": {},
   "outputs": [
    {
     "name": "stdout",
     "output_type": "stream",
     "text": [
      "R2 score: 0.905745\n",
      "MAE: 0.653486\n",
      "MSE: 0.730318\n"
     ]
    },
    {
     "data": {
      "image/png": "[encoded data removed]",
      "text/plain": [
       "<Figure size 432x288 with 1 Axes>"
      ]
     },
     "metadata": {
      "needs_background": "light"
     },
     "output_type": "display_data"
    }
   ],
   "source": [
    "#Vamos a plotear Predictions vs True values del set polinomico\n",
    "plt.scatter(svr_prediction, y_test)\n",
    "plt.plot(np.arange(0,100),np.arange(0,100), 'r', label='Identity')\n",
    "plt.xlabel('Predictions')\n",
    "plt.ylabel('True Values')\n",
    "plt.xlim((0,10))\n",
    "plt.ylim((0,20))\n",
    "plt.legend()\n",
    "print(f'R2 score: {svr_r2:.6f}')\n",
    "print(f'MAE: {svr_mae:.6f}')\n",
    "print(f'MSE: {svr_mse:.6f}')"
   ]
  },
  {
   "cell_type": "code",
   "execution_count": 44,
   "metadata": {},
   "outputs": [],
   "source": [
    "results_df = results_df.append({'Model':'SVR',\n",
    "                                'Features':'-',\n",
    "                                'R2':svr_r2,\n",
    "                                'MSE':svr_mse,\n",
    "                                'MAE':svr_mae},ignore_index=True)"
   ]
  },
  {
   "cell_type": "code",
   "execution_count": 45,
   "metadata": {},
   "outputs": [
    {
     "data": {
      "text/html": [
       "<div>\n",
       "<style scoped>\n",
       "    .dataframe tbody tr th:only-of-type {\n",
       "        vertical-align: middle;\n",
       "    }\n",
       "\n",
       "    .dataframe tbody tr th {\n",
       "        vertical-align: top;\n",
       "    }\n",
       "\n",
       "    .dataframe thead th {\n",
       "        text-align: right;\n",
       "    }\n",
       "</style>\n",
       "<table border=\"1\" class=\"dataframe\">\n",
       "  <thead>\n",
       "    <tr style=\"text-align: right;\">\n",
       "      <th></th>\n",
       "      <th>Model</th>\n",
       "      <th>Features</th>\n",
       "      <th>R2</th>\n",
       "      <th>MSE</th>\n",
       "      <th>MAE</th>\n",
       "    </tr>\n",
       "  </thead>\n",
       "  <tbody>\n",
       "    <tr>\n",
       "      <th>0</th>\n",
       "      <td>Linear</td>\n",
       "      <td>-</td>\n",
       "      <td>0.383186</td>\n",
       "      <td>4.779281</td>\n",
       "      <td>1.679251</td>\n",
       "    </tr>\n",
       "    <tr>\n",
       "      <th>1</th>\n",
       "      <td>Linear</td>\n",
       "      <td>Linear</td>\n",
       "      <td>0.383186</td>\n",
       "      <td>4.779281</td>\n",
       "      <td>1.679251</td>\n",
       "    </tr>\n",
       "    <tr>\n",
       "      <th>2</th>\n",
       "      <td>Linear</td>\n",
       "      <td>Poly</td>\n",
       "      <td>0.909096</td>\n",
       "      <td>0.704351</td>\n",
       "      <td>0.682274</td>\n",
       "    </tr>\n",
       "    <tr>\n",
       "      <th>3</th>\n",
       "      <td>SVR</td>\n",
       "      <td>-</td>\n",
       "      <td>0.905745</td>\n",
       "      <td>0.730318</td>\n",
       "      <td>0.653486</td>\n",
       "    </tr>\n",
       "  </tbody>\n",
       "</table>\n",
       "</div>"
      ],
      "text/plain": [
       "    Model Features        R2       MSE       MAE\n",
       "0  Linear        -  0.383186  4.779281  1.679251\n",
       "1  Linear   Linear  0.383186  4.779281  1.679251\n",
       "2  Linear     Poly  0.909096  0.704351  0.682274\n",
       "3     SVR        -  0.905745  0.730318  0.653486"
      ]
     },
     "execution_count": 45,
     "metadata": {},
     "output_type": "execute_result"
    }
   ],
   "source": [
    "results_df"
   ]
  },
  {
   "cell_type": "markdown",
   "metadata": {},
   "source": [
    "### Linear Features (datos escalados)"
   ]
  },
  {
   "cell_type": "code",
   "execution_count": 46,
   "metadata": {},
   "outputs": [
    {
     "name": "stdout",
     "output_type": "stream",
     "text": [
      "Fitting 5 folds for each of 180 candidates, totalling 900 fits\n"
     ]
    },
    {
     "name": "stderr",
     "output_type": "stream",
     "text": [
      "[Parallel(n_jobs=3)]: Using backend LokyBackend with 3 concurrent workers.\n",
      "[Parallel(n_jobs=3)]: Done 130 tasks      | elapsed:    0.0s\n"
     ]
    },
    {
     "name": "stdout",
     "output_type": "stream",
     "text": [
      "SVR(C=2000, gamma=1, max_iter=25000) \n",
      "\n",
      "{'C': 2000, 'epsilon': 0.1, 'gamma': 1} \n",
      "\n",
      "-0.6269742036481929 \n",
      "\n"
     ]
    },
    {
     "name": "stderr",
     "output_type": "stream",
     "text": [
      "[Parallel(n_jobs=3)]: Done 900 out of 900 | elapsed:    0.7s finished\n",
      "D:\\Python\\lib\\site-packages\\sklearn\\utils\\validation.py:73: DataConversionWarning: A column-vector y was passed when a 1d array was expected. Please change the shape of y to (n_samples, ), for example using ravel().\n",
      "  return f(**kwargs)\n",
      "D:\\Python\\lib\\site-packages\\sklearn\\svm\\_base.py:246: ConvergenceWarning: Solver terminated early (max_iter=25000).  Consider pre-processing your data with StandardScaler or MinMaxScaler.\n",
      "  warnings.warn('Solver terminated early (max_iter=%i).'\n"
     ]
    }
   ],
   "source": [
    "# Entrenamos con linear features ESCALADAS!\n",
    "gs.fit(x_train_scaled, y_train)\n",
    "print(gs.best_estimator_, \"\\n\")\n",
    "print(gs.best_params_, \"\\n\")\n",
    "print(gs.best_score_, \"\\n\")"
   ]
  },
  {
   "cell_type": "code",
   "execution_count": 47,
   "metadata": {},
   "outputs": [],
   "source": [
    "# Prediccion + Metricas\n",
    "svr_linear_prediction = gs.best_estimator_.predict(x_test_scaled)\n",
    "\n",
    "svr_linear_r2 = r2_score(y_true=y_test, y_pred=svr_linear_prediction)\n",
    "svr_linear_mse = mean_squared_error(y_true=y_test, y_pred=svr_linear_prediction)\n",
    "svr_linear_mae = mean_absolute_error(y_true=y_test, y_pred=svr_linear_prediction)"
   ]
  },
  {
   "cell_type": "code",
   "execution_count": 48,
   "metadata": {},
   "outputs": [
    {
     "name": "stdout",
     "output_type": "stream",
     "text": [
      "R2 score: 0.898711\n",
      "MAE: 0.669248\n",
      "MSE: 0.784821\n"
     ]
    },
    {
     "data": {
      "image/png": "[encoded data removed]",
      "text/plain": [
       "<Figure size 432x288 with 1 Axes>"
      ]
     },
     "metadata": {
      "needs_background": "light"
     },
     "output_type": "display_data"
    }
   ],
   "source": [
    "#Vamos a plotear Predictions vs True values del set polinomico\n",
    "plt.scatter(svr_linear_prediction, y_test)\n",
    "plt.plot(np.arange(0,100),np.arange(0,100), 'r', label='Identity')\n",
    "plt.xlabel('Predictions')\n",
    "plt.ylabel('True Values')\n",
    "plt.xlim((0,10))\n",
    "plt.ylim((0,20))\n",
    "plt.legend()\n",
    "print(f'R2 score: {svr_linear_r2:.6f}')\n",
    "print(f'MAE: {svr_linear_mae:.6f}')\n",
    "print(f'MSE: {svr_linear_mse:.6f}')"
   ]
  },
  {
   "cell_type": "code",
   "execution_count": 49,
   "metadata": {},
   "outputs": [],
   "source": [
    "results_df = results_df.append({'Model':'SVR',\n",
    "                                'Features':'Linear',\n",
    "                                'R2':svr_r2,\n",
    "                                'MSE':svr_mse,\n",
    "                                'MAE':svr_mae},ignore_index=True)"
   ]
  },
  {
   "cell_type": "code",
   "execution_count": 50,
   "metadata": {},
   "outputs": [
    {
     "data": {
      "text/html": [
       "<div>\n",
       "<style scoped>\n",
       "    .dataframe tbody tr th:only-of-type {\n",
       "        vertical-align: middle;\n",
       "    }\n",
       "\n",
       "    .dataframe tbody tr th {\n",
       "        vertical-align: top;\n",
       "    }\n",
       "\n",
       "    .dataframe thead th {\n",
       "        text-align: right;\n",
       "    }\n",
       "</style>\n",
       "<table border=\"1\" class=\"dataframe\">\n",
       "  <thead>\n",
       "    <tr style=\"text-align: right;\">\n",
       "      <th></th>\n",
       "      <th>Model</th>\n",
       "      <th>Features</th>\n",
       "      <th>R2</th>\n",
       "      <th>MSE</th>\n",
       "      <th>MAE</th>\n",
       "    </tr>\n",
       "  </thead>\n",
       "  <tbody>\n",
       "    <tr>\n",
       "      <th>0</th>\n",
       "      <td>Linear</td>\n",
       "      <td>-</td>\n",
       "      <td>0.383186</td>\n",
       "      <td>4.779281</td>\n",
       "      <td>1.679251</td>\n",
       "    </tr>\n",
       "    <tr>\n",
       "      <th>1</th>\n",
       "      <td>Linear</td>\n",
       "      <td>Linear</td>\n",
       "      <td>0.383186</td>\n",
       "      <td>4.779281</td>\n",
       "      <td>1.679251</td>\n",
       "    </tr>\n",
       "    <tr>\n",
       "      <th>2</th>\n",
       "      <td>Linear</td>\n",
       "      <td>Poly</td>\n",
       "      <td>0.909096</td>\n",
       "      <td>0.704351</td>\n",
       "      <td>0.682274</td>\n",
       "    </tr>\n",
       "    <tr>\n",
       "      <th>3</th>\n",
       "      <td>SVR</td>\n",
       "      <td>-</td>\n",
       "      <td>0.905745</td>\n",
       "      <td>0.730318</td>\n",
       "      <td>0.653486</td>\n",
       "    </tr>\n",
       "    <tr>\n",
       "      <th>4</th>\n",
       "      <td>SVR</td>\n",
       "      <td>Linear</td>\n",
       "      <td>0.905745</td>\n",
       "      <td>0.730318</td>\n",
       "      <td>0.653486</td>\n",
       "    </tr>\n",
       "  </tbody>\n",
       "</table>\n",
       "</div>"
      ],
      "text/plain": [
       "    Model Features        R2       MSE       MAE\n",
       "0  Linear        -  0.383186  4.779281  1.679251\n",
       "1  Linear   Linear  0.383186  4.779281  1.679251\n",
       "2  Linear     Poly  0.909096  0.704351  0.682274\n",
       "3     SVR        -  0.905745  0.730318  0.653486\n",
       "4     SVR   Linear  0.905745  0.730318  0.653486"
      ]
     },
     "execution_count": 50,
     "metadata": {},
     "output_type": "execute_result"
    }
   ],
   "source": [
    "results_df"
   ]
  },
  {
   "cell_type": "markdown",
   "metadata": {},
   "source": [
    "### Features Polinomicas (con datos escalados)"
   ]
  },
  {
   "cell_type": "code",
   "execution_count": 51,
   "metadata": {},
   "outputs": [
    {
     "name": "stdout",
     "output_type": "stream",
     "text": [
      "Fitting 5 folds for each of 180 candidates, totalling 900 fits\n"
     ]
    },
    {
     "name": "stderr",
     "output_type": "stream",
     "text": [
      "[Parallel(n_jobs=3)]: Using backend LokyBackend with 3 concurrent workers.\n",
      "[Parallel(n_jobs=3)]: Done 122 tasks      | elapsed:    0.0s\n",
      "[Parallel(n_jobs=3)]: Done 900 out of 900 | elapsed:    0.7s finished\n",
      "D:\\Python\\lib\\site-packages\\sklearn\\utils\\validation.py:73: DataConversionWarning: A column-vector y was passed when a 1d array was expected. Please change the shape of y to (n_samples, ), for example using ravel().\n",
      "  return f(**kwargs)\n"
     ]
    },
    {
     "data": {
      "text/plain": [
       "GridSearchCV(cv=5, estimator=SVR(max_iter=25000), n_jobs=3,\n",
       "             param_grid={'C': [1000, 1500, 2000, 3000, 5000],\n",
       "                         'epsilon': [0.001, 0.01, 0.1, 1, 10, 100],\n",
       "                         'gamma': [0.001, 0.01, 0.1, 1, 10, 100]},\n",
       "             scoring='neg_mean_squared_error', verbose=3)"
      ]
     },
     "execution_count": 51,
     "metadata": {},
     "output_type": "execute_result"
    }
   ],
   "source": [
    "gs.fit(x_train_poly_scaled, y_train)"
   ]
  },
  {
   "cell_type": "code",
   "execution_count": 52,
   "metadata": {},
   "outputs": [
    {
     "name": "stdout",
     "output_type": "stream",
     "text": [
      "SVR(C=5000, epsilon=0.001, gamma=0.01, max_iter=25000) \n",
      "\n",
      "{'C': 5000, 'epsilon': 0.001, 'gamma': 0.01} \n",
      "\n",
      "-0.5742911322757023 \n",
      "\n"
     ]
    }
   ],
   "source": [
    "print(gs.best_estimator_, \"\\n\")\n",
    "print(gs.best_params_, \"\\n\")\n",
    "print(gs.best_score_, \"\\n\")"
   ]
  },
  {
   "cell_type": "code",
   "execution_count": 53,
   "metadata": {},
   "outputs": [],
   "source": [
    "# Prediccion + Metricas\n",
    "poly_svr_prediction = gs.best_estimator_.predict(x_test_poly_scaled)\n",
    "\n",
    "poly_svr_r2 = r2_score(y_true=y_test, y_pred=poly_svr_prediction)\n",
    "poly_svr_mse = mean_squared_error(y_true=y_test, y_pred=poly_svr_prediction)\n",
    "poly_svr_mae = mean_absolute_error(y_true=y_test, y_pred=poly_svr_prediction)"
   ]
  },
  {
   "cell_type": "code",
   "execution_count": 54,
   "metadata": {},
   "outputs": [
    {
     "name": "stdout",
     "output_type": "stream",
     "text": [
      "R2 score: 0.876809\n",
      "MAE: 0.740362\n",
      "MSE: 0.954525\n"
     ]
    },
    {
     "data": {
      "image/png": "[encoded data removed]",
      "text/plain": [
       "<Figure size 432x288 with 1 Axes>"
      ]
     },
     "metadata": {
      "needs_background": "light"
     },
     "output_type": "display_data"
    }
   ],
   "source": [
    "#Plot\n",
    "plt.scatter(poly_svr_prediction, y_test)\n",
    "plt.plot(np.arange(0,100),np.arange(0,100), 'r', label='Identity')\n",
    "plt.xlabel('Predictions')\n",
    "plt.ylabel('True Values')\n",
    "plt.xlim((0,10))\n",
    "plt.ylim((0,20))\n",
    "plt.legend()\n",
    "print(f'R2 score: {poly_svr_r2:.6f}')\n",
    "print(f'MAE: {poly_svr_mae:.6f}')\n",
    "print(f'MSE: {poly_svr_mse:.6f}')"
   ]
  },
  {
   "cell_type": "code",
   "execution_count": 55,
   "metadata": {},
   "outputs": [],
   "source": [
    "#Guardamos\n",
    "results_df = results_df.append({'Model':'SVR',\n",
    "                                'Features':'Poly',\n",
    "                                'R2':poly_svr_r2,\n",
    "                                'MSE':poly_svr_mse,\n",
    "                                'MAE':poly_svr_mae},ignore_index=True)"
   ]
  },
  {
   "cell_type": "code",
   "execution_count": 56,
   "metadata": {},
   "outputs": [
    {
     "data": {
      "text/html": [
       "<div>\n",
       "<style scoped>\n",
       "    .dataframe tbody tr th:only-of-type {\n",
       "        vertical-align: middle;\n",
       "    }\n",
       "\n",
       "    .dataframe tbody tr th {\n",
       "        vertical-align: top;\n",
       "    }\n",
       "\n",
       "    .dataframe thead th {\n",
       "        text-align: right;\n",
       "    }\n",
       "</style>\n",
       "<table border=\"1\" class=\"dataframe\">\n",
       "  <thead>\n",
       "    <tr style=\"text-align: right;\">\n",
       "      <th></th>\n",
       "      <th>Model</th>\n",
       "      <th>Features</th>\n",
       "      <th>R2</th>\n",
       "      <th>MSE</th>\n",
       "      <th>MAE</th>\n",
       "    </tr>\n",
       "  </thead>\n",
       "  <tbody>\n",
       "    <tr>\n",
       "      <th>0</th>\n",
       "      <td>Linear</td>\n",
       "      <td>-</td>\n",
       "      <td>0.383186</td>\n",
       "      <td>4.779281</td>\n",
       "      <td>1.679251</td>\n",
       "    </tr>\n",
       "    <tr>\n",
       "      <th>1</th>\n",
       "      <td>Linear</td>\n",
       "      <td>Linear</td>\n",
       "      <td>0.383186</td>\n",
       "      <td>4.779281</td>\n",
       "      <td>1.679251</td>\n",
       "    </tr>\n",
       "    <tr>\n",
       "      <th>2</th>\n",
       "      <td>Linear</td>\n",
       "      <td>Poly</td>\n",
       "      <td>0.909096</td>\n",
       "      <td>0.704351</td>\n",
       "      <td>0.682274</td>\n",
       "    </tr>\n",
       "    <tr>\n",
       "      <th>3</th>\n",
       "      <td>SVR</td>\n",
       "      <td>-</td>\n",
       "      <td>0.905745</td>\n",
       "      <td>0.730318</td>\n",
       "      <td>0.653486</td>\n",
       "    </tr>\n",
       "    <tr>\n",
       "      <th>4</th>\n",
       "      <td>SVR</td>\n",
       "      <td>Linear</td>\n",
       "      <td>0.905745</td>\n",
       "      <td>0.730318</td>\n",
       "      <td>0.653486</td>\n",
       "    </tr>\n",
       "    <tr>\n",
       "      <th>5</th>\n",
       "      <td>SVR</td>\n",
       "      <td>Poly</td>\n",
       "      <td>0.876809</td>\n",
       "      <td>0.954525</td>\n",
       "      <td>0.740362</td>\n",
       "    </tr>\n",
       "  </tbody>\n",
       "</table>\n",
       "</div>"
      ],
      "text/plain": [
       "    Model Features        R2       MSE       MAE\n",
       "0  Linear        -  0.383186  4.779281  1.679251\n",
       "1  Linear   Linear  0.383186  4.779281  1.679251\n",
       "2  Linear     Poly  0.909096  0.704351  0.682274\n",
       "3     SVR        -  0.905745  0.730318  0.653486\n",
       "4     SVR   Linear  0.905745  0.730318  0.653486\n",
       "5     SVR     Poly  0.876809  0.954525  0.740362"
      ]
     },
     "execution_count": 56,
     "metadata": {},
     "output_type": "execute_result"
    }
   ],
   "source": [
    "results_df"
   ]
  },
  {
   "cell_type": "markdown",
   "metadata": {},
   "source": [
    "# Ridge Regression\n",
    "\n"
   ]
  },
  {
   "cell_type": "code",
   "execution_count": 57,
   "metadata": {},
   "outputs": [],
   "source": [
    "# Ahora cambiamos el estimador, usaremos Ridge Regression\n",
    "est = Ridge()\n",
    "# Lista del parametro lambda (llamado 'alpha' en el GridSearch )\n",
    "lambdas = [0.001,0.005,0.01,0.02,0.05,0.1,0.2,0.3,0.4,0.5,1]\n",
    "# Juntamos el diccionario de parametros\n",
    "parameters = {'alpha': lambdas}\n",
    "# Definimos nuevamente el objeto GS con los parametros previamente definidos\n",
    "gs = GridSearchCV(est, param_grid=parameters,refit=True, cv=n_folds, scoring=\"neg_mean_squared_error\")"
   ]
  },
  {
   "cell_type": "markdown",
   "metadata": {},
   "source": [
    "### Datos originales (sin escalar)"
   ]
  },
  {
   "cell_type": "code",
   "execution_count": 58,
   "metadata": {},
   "outputs": [
    {
     "name": "stdout",
     "output_type": "stream",
     "text": [
      "Ridge(alpha=1) \n",
      "\n",
      "{'alpha': 1} \n",
      "\n",
      "-3.141758975429506 \n",
      "\n"
     ]
    }
   ],
   "source": [
    "gs.fit(x_train, y_train)\n",
    "print(gs.best_estimator_, \"\\n\")\n",
    "print(gs.best_params_, \"\\n\")\n",
    "print(gs.best_score_, \"\\n\")"
   ]
  },
  {
   "cell_type": "code",
   "execution_count": 59,
   "metadata": {},
   "outputs": [],
   "source": [
    "# Prediccion + Metricas\n",
    "ridge_prediction = gs.best_estimator_.predict(x_test)\n",
    "ridge_r2 = r2_score(y_true=y_test, y_pred=ridge_prediction)\n",
    "ridge_mse = mean_squared_error(y_true=y_test, y_pred=ridge_prediction)\n",
    "ridge_mae = mean_absolute_error(y_true=y_test, y_pred=ridge_prediction)"
   ]
  },
  {
   "cell_type": "code",
   "execution_count": 60,
   "metadata": {},
   "outputs": [
    {
     "name": "stdout",
     "output_type": "stream",
     "text": [
      "R2 score: 0.382917\n",
      "MAE: 1.679236\n",
      "MSE: 4.781367\n"
     ]
    },
    {
     "data": {
      "image/png": "[encoded data removed]",
      "text/plain": [
       "<Figure size 432x288 with 1 Axes>"
      ]
     },
     "metadata": {
      "needs_background": "light"
     },
     "output_type": "display_data"
    }
   ],
   "source": [
    "# Plots\n",
    "plt.scatter(ridge_prediction, y_test)\n",
    "plt.plot(np.arange(0,100),np.arange(0,100), 'r', label='Identity')\n",
    "plt.xlabel('Predictions')\n",
    "plt.ylabel('True Values')\n",
    "plt.xlim((0,10))\n",
    "plt.ylim((0,20))\n",
    "plt.legend()\n",
    "print(f'R2 score: {ridge_r2:.6f}')\n",
    "print(f'MAE: {ridge_mae:.6f}')\n",
    "print(f'MSE: {ridge_mse:.6f}')"
   ]
  },
  {
   "cell_type": "code",
   "execution_count": 61,
   "metadata": {},
   "outputs": [],
   "source": [
    "#Guardamos resultados\n",
    "results_df = results_df.append({'Model':'Ridge',\n",
    "                                'Features':'-',\n",
    "                                'R2':ridge_r2,\n",
    "                                'MSE':ridge_mse,\n",
    "                                'MAE':ridge_mae},ignore_index=True)"
   ]
  },
  {
   "cell_type": "code",
   "execution_count": 62,
   "metadata": {},
   "outputs": [
    {
     "data": {
      "text/html": [
       "<div>\n",
       "<style scoped>\n",
       "    .dataframe tbody tr th:only-of-type {\n",
       "        vertical-align: middle;\n",
       "    }\n",
       "\n",
       "    .dataframe tbody tr th {\n",
       "        vertical-align: top;\n",
       "    }\n",
       "\n",
       "    .dataframe thead th {\n",
       "        text-align: right;\n",
       "    }\n",
       "</style>\n",
       "<table border=\"1\" class=\"dataframe\">\n",
       "  <thead>\n",
       "    <tr style=\"text-align: right;\">\n",
       "      <th></th>\n",
       "      <th>Model</th>\n",
       "      <th>Features</th>\n",
       "      <th>R2</th>\n",
       "      <th>MSE</th>\n",
       "      <th>MAE</th>\n",
       "    </tr>\n",
       "  </thead>\n",
       "  <tbody>\n",
       "    <tr>\n",
       "      <th>0</th>\n",
       "      <td>Linear</td>\n",
       "      <td>-</td>\n",
       "      <td>0.383186</td>\n",
       "      <td>4.779281</td>\n",
       "      <td>1.679251</td>\n",
       "    </tr>\n",
       "    <tr>\n",
       "      <th>1</th>\n",
       "      <td>Linear</td>\n",
       "      <td>Linear</td>\n",
       "      <td>0.383186</td>\n",
       "      <td>4.779281</td>\n",
       "      <td>1.679251</td>\n",
       "    </tr>\n",
       "    <tr>\n",
       "      <th>2</th>\n",
       "      <td>Linear</td>\n",
       "      <td>Poly</td>\n",
       "      <td>0.909096</td>\n",
       "      <td>0.704351</td>\n",
       "      <td>0.682274</td>\n",
       "    </tr>\n",
       "    <tr>\n",
       "      <th>3</th>\n",
       "      <td>SVR</td>\n",
       "      <td>-</td>\n",
       "      <td>0.905745</td>\n",
       "      <td>0.730318</td>\n",
       "      <td>0.653486</td>\n",
       "    </tr>\n",
       "    <tr>\n",
       "      <th>4</th>\n",
       "      <td>SVR</td>\n",
       "      <td>Linear</td>\n",
       "      <td>0.905745</td>\n",
       "      <td>0.730318</td>\n",
       "      <td>0.653486</td>\n",
       "    </tr>\n",
       "    <tr>\n",
       "      <th>5</th>\n",
       "      <td>SVR</td>\n",
       "      <td>Poly</td>\n",
       "      <td>0.876809</td>\n",
       "      <td>0.954525</td>\n",
       "      <td>0.740362</td>\n",
       "    </tr>\n",
       "    <tr>\n",
       "      <th>6</th>\n",
       "      <td>Ridge</td>\n",
       "      <td>-</td>\n",
       "      <td>0.382917</td>\n",
       "      <td>4.781367</td>\n",
       "      <td>1.679236</td>\n",
       "    </tr>\n",
       "  </tbody>\n",
       "</table>\n",
       "</div>"
      ],
      "text/plain": [
       "    Model Features        R2       MSE       MAE\n",
       "0  Linear        -  0.383186  4.779281  1.679251\n",
       "1  Linear   Linear  0.383186  4.779281  1.679251\n",
       "2  Linear     Poly  0.909096  0.704351  0.682274\n",
       "3     SVR        -  0.905745  0.730318  0.653486\n",
       "4     SVR   Linear  0.905745  0.730318  0.653486\n",
       "5     SVR     Poly  0.876809  0.954525  0.740362\n",
       "6   Ridge        -  0.382917  4.781367  1.679236"
      ]
     },
     "execution_count": 62,
     "metadata": {},
     "output_type": "execute_result"
    }
   ],
   "source": [
    "results_df"
   ]
  },
  {
   "cell_type": "markdown",
   "metadata": {},
   "source": [
    "### Linear Features (datos escalados)"
   ]
  },
  {
   "cell_type": "code",
   "execution_count": 63,
   "metadata": {},
   "outputs": [
    {
     "data": {
      "text/plain": [
       "GridSearchCV(cv=5, estimator=Ridge(),\n",
       "             param_grid={'alpha': [0.001, 0.005, 0.01, 0.02, 0.05, 0.1, 0.2,\n",
       "                                   0.3, 0.4, 0.5, 1]},\n",
       "             scoring='neg_mean_squared_error')"
      ]
     },
     "execution_count": 63,
     "metadata": {},
     "output_type": "execute_result"
    }
   ],
   "source": [
    "# Entrenamos (con datos escalados)\n",
    "gs.fit(x_train_scaled, y_train)"
   ]
  },
  {
   "cell_type": "code",
   "execution_count": 64,
   "metadata": {},
   "outputs": [
    {
     "name": "stdout",
     "output_type": "stream",
     "text": [
      "Ridge(alpha=0.3) \n",
      "\n",
      "{'alpha': 0.3} \n",
      "\n",
      "-3.1417498331217537 \n",
      "\n"
     ]
    }
   ],
   "source": [
    "# Mostramos el mejor estimador, sus hyperparametros seleccionados y su resultado\n",
    "print(gs.best_estimator_, \"\\n\")\n",
    "print(gs.best_params_, \"\\n\")\n",
    "print(gs.best_score_, \"\\n\")"
   ]
  },
  {
   "cell_type": "code",
   "execution_count": 65,
   "metadata": {},
   "outputs": [],
   "source": [
    "#Predicciones + Metricas\n",
    "ridge_linear_prediction = gs.best_estimator_.predict(x_test_scaled)\n",
    "ridge_linear_r2 = r2_score(y_true=y_test, y_pred=ridge_linear_prediction)\n",
    "ridge_linear_mse = mean_squared_error(y_true=y_test, y_pred=ridge_linear_prediction)\n",
    "ridge_linear_mae = mean_absolute_error(y_true=y_test, y_pred=ridge_linear_prediction)"
   ]
  },
  {
   "cell_type": "code",
   "execution_count": 66,
   "metadata": {},
   "outputs": [
    {
     "name": "stdout",
     "output_type": "stream",
     "text": [
      "R2 score: 0.382618\n",
      "MAE: 1.679219\n",
      "MSE: 4.783685\n"
     ]
    },
    {
     "data": {
      "image/png": "[encoded data removed]",
      "text/plain": [
       "<Figure size 432x288 with 1 Axes>"
      ]
     },
     "metadata": {
      "needs_background": "light"
     },
     "output_type": "display_data"
    }
   ],
   "source": [
    "# Plots \n",
    "plt.scatter(ridge_linear_prediction, y_test)\n",
    "plt.plot(np.arange(0,100),np.arange(0,100), 'r', label='Identity')\n",
    "plt.xlabel('Predictions')\n",
    "plt.ylabel('True Values')\n",
    "plt.xlim((0,10))\n",
    "plt.ylim((0,20))\n",
    "plt.legend()\n",
    "print(f'R2 score: {ridge_linear_r2:.6f}')\n",
    "print(f'MAE: {ridge_linear_mae:.6f}')\n",
    "print(f'MSE: {ridge_linear_mse:.6f}')"
   ]
  },
  {
   "cell_type": "code",
   "execution_count": 67,
   "metadata": {},
   "outputs": [],
   "source": [
    "#Guardamos resultados\n",
    "results_df = results_df.append({'Model':'Ridge',\n",
    "                                'Features':'Linear',\n",
    "                                'R2':ridge_linear_r2,\n",
    "                                'MSE':ridge_linear_mse,\n",
    "                                'MAE':ridge_linear_mae},ignore_index=True)"
   ]
  },
  {
   "cell_type": "code",
   "execution_count": 68,
   "metadata": {},
   "outputs": [
    {
     "data": {
      "text/html": [
       "<div>\n",
       "<style scoped>\n",
       "    .dataframe tbody tr th:only-of-type {\n",
       "        vertical-align: middle;\n",
       "    }\n",
       "\n",
       "    .dataframe tbody tr th {\n",
       "        vertical-align: top;\n",
       "    }\n",
       "\n",
       "    .dataframe thead th {\n",
       "        text-align: right;\n",
       "    }\n",
       "</style>\n",
       "<table border=\"1\" class=\"dataframe\">\n",
       "  <thead>\n",
       "    <tr style=\"text-align: right;\">\n",
       "      <th></th>\n",
       "      <th>Model</th>\n",
       "      <th>Features</th>\n",
       "      <th>R2</th>\n",
       "      <th>MSE</th>\n",
       "      <th>MAE</th>\n",
       "    </tr>\n",
       "  </thead>\n",
       "  <tbody>\n",
       "    <tr>\n",
       "      <th>0</th>\n",
       "      <td>Linear</td>\n",
       "      <td>-</td>\n",
       "      <td>0.383186</td>\n",
       "      <td>4.779281</td>\n",
       "      <td>1.679251</td>\n",
       "    </tr>\n",
       "    <tr>\n",
       "      <th>1</th>\n",
       "      <td>Linear</td>\n",
       "      <td>Linear</td>\n",
       "      <td>0.383186</td>\n",
       "      <td>4.779281</td>\n",
       "      <td>1.679251</td>\n",
       "    </tr>\n",
       "    <tr>\n",
       "      <th>2</th>\n",
       "      <td>Linear</td>\n",
       "      <td>Poly</td>\n",
       "      <td>0.909096</td>\n",
       "      <td>0.704351</td>\n",
       "      <td>0.682274</td>\n",
       "    </tr>\n",
       "    <tr>\n",
       "      <th>3</th>\n",
       "      <td>SVR</td>\n",
       "      <td>-</td>\n",
       "      <td>0.905745</td>\n",
       "      <td>0.730318</td>\n",
       "      <td>0.653486</td>\n",
       "    </tr>\n",
       "    <tr>\n",
       "      <th>4</th>\n",
       "      <td>SVR</td>\n",
       "      <td>Linear</td>\n",
       "      <td>0.905745</td>\n",
       "      <td>0.730318</td>\n",
       "      <td>0.653486</td>\n",
       "    </tr>\n",
       "    <tr>\n",
       "      <th>5</th>\n",
       "      <td>SVR</td>\n",
       "      <td>Poly</td>\n",
       "      <td>0.876809</td>\n",
       "      <td>0.954525</td>\n",
       "      <td>0.740362</td>\n",
       "    </tr>\n",
       "    <tr>\n",
       "      <th>6</th>\n",
       "      <td>Ridge</td>\n",
       "      <td>-</td>\n",
       "      <td>0.382917</td>\n",
       "      <td>4.781367</td>\n",
       "      <td>1.679236</td>\n",
       "    </tr>\n",
       "    <tr>\n",
       "      <th>7</th>\n",
       "      <td>Ridge</td>\n",
       "      <td>Linear</td>\n",
       "      <td>0.382618</td>\n",
       "      <td>4.783685</td>\n",
       "      <td>1.679219</td>\n",
       "    </tr>\n",
       "  </tbody>\n",
       "</table>\n",
       "</div>"
      ],
      "text/plain": [
       "    Model Features        R2       MSE       MAE\n",
       "0  Linear        -  0.383186  4.779281  1.679251\n",
       "1  Linear   Linear  0.383186  4.779281  1.679251\n",
       "2  Linear     Poly  0.909096  0.704351  0.682274\n",
       "3     SVR        -  0.905745  0.730318  0.653486\n",
       "4     SVR   Linear  0.905745  0.730318  0.653486\n",
       "5     SVR     Poly  0.876809  0.954525  0.740362\n",
       "6   Ridge        -  0.382917  4.781367  1.679236\n",
       "7   Ridge   Linear  0.382618  4.783685  1.679219"
      ]
     },
     "execution_count": 68,
     "metadata": {},
     "output_type": "execute_result"
    }
   ],
   "source": [
    "results_df"
   ]
  },
  {
   "cell_type": "markdown",
   "metadata": {},
   "source": [
    "### Features Polinomicas (con datos escalados)"
   ]
  },
  {
   "cell_type": "code",
   "execution_count": 69,
   "metadata": {},
   "outputs": [
    {
     "name": "stdout",
     "output_type": "stream",
     "text": [
      "Ridge(alpha=0.3) \n",
      "\n",
      "{'alpha': 0.3} \n",
      "\n",
      "-0.5699341455228916 \n",
      "\n"
     ]
    }
   ],
   "source": [
    "#Definimos estimador\n",
    "est = Ridge()\n",
    "#Defini\n",
    "gs = GridSearchCV(est, param_grid=parameters,refit=True, cv=n_folds, scoring=\"neg_mean_squared_error\")\n",
    "gs.fit(x_train_poly_scaled, y_train)\n",
    "print(gs.best_estimator_, \"\\n\")\n",
    "print(gs.best_params_, \"\\n\")\n",
    "print(gs.best_score_, \"\\n\")"
   ]
  },
  {
   "cell_type": "code",
   "execution_count": 70,
   "metadata": {},
   "outputs": [],
   "source": [
    "# Prediccion + Metricas\n",
    "poly_ridge_prediction = gs.best_estimator_.predict(x_test_poly_scaled)\n",
    "\n",
    "poly_ridge_r2 = r2_score(y_true=y_test, y_pred=poly_ridge_prediction)\n",
    "poly_ridge_mse = mean_squared_error(y_true=y_test, y_pred=poly_ridge_prediction)\n",
    "poly_ridge_mae = mean_absolute_error(y_true=y_test, y_pred=poly_ridge_prediction)"
   ]
  },
  {
   "cell_type": "code",
   "execution_count": 71,
   "metadata": {},
   "outputs": [
    {
     "name": "stdout",
     "output_type": "stream",
     "text": [
      "R2 score: 0.909576\n",
      "MAE: 0.685456\n",
      "MSE: 0.700637\n"
     ]
    },
    {
     "data": {
      "image/png": "[encoded data removed]",
      "text/plain": [
       "<Figure size 432x288 with 1 Axes>"
      ]
     },
     "metadata": {
      "needs_background": "light"
     },
     "output_type": "display_data"
    }
   ],
   "source": [
    "# Plots\n",
    "plt.scatter(poly_ridge_prediction, y_test)\n",
    "plt.plot(np.arange(0,100),np.arange(0,100), 'r', label='Identity')\n",
    "plt.xlabel('Predictions')\n",
    "plt.ylabel('True Values')\n",
    "plt.xlim((0,10))\n",
    "plt.ylim((0,20))\n",
    "plt.legend()\n",
    "print(f'R2 score: {poly_ridge_r2:.6f}')\n",
    "print(f'MAE: {poly_ridge_mae:.6f}')\n",
    "print(f'MSE: {poly_ridge_mse:.6f}')"
   ]
  },
  {
   "cell_type": "code",
   "execution_count": 72,
   "metadata": {},
   "outputs": [],
   "source": [
    "# Guardamos\n",
    "results_df = results_df.append({'Model':'Ridge',\n",
    "                                'Features':'Poly',\n",
    "                                'R2':poly_ridge_r2,\n",
    "                                'MSE':poly_ridge_mse,\n",
    "                                'MAE':poly_ridge_mae},ignore_index=True)"
   ]
  },
  {
   "cell_type": "code",
   "execution_count": 73,
   "metadata": {},
   "outputs": [
    {
     "data": {
      "text/html": [
       "<div>\n",
       "<style scoped>\n",
       "    .dataframe tbody tr th:only-of-type {\n",
       "        vertical-align: middle;\n",
       "    }\n",
       "\n",
       "    .dataframe tbody tr th {\n",
       "        vertical-align: top;\n",
       "    }\n",
       "\n",
       "    .dataframe thead th {\n",
       "        text-align: right;\n",
       "    }\n",
       "</style>\n",
       "<table border=\"1\" class=\"dataframe\">\n",
       "  <thead>\n",
       "    <tr style=\"text-align: right;\">\n",
       "      <th></th>\n",
       "      <th>Model</th>\n",
       "      <th>Features</th>\n",
       "      <th>R2</th>\n",
       "      <th>MSE</th>\n",
       "      <th>MAE</th>\n",
       "    </tr>\n",
       "  </thead>\n",
       "  <tbody>\n",
       "    <tr>\n",
       "      <th>0</th>\n",
       "      <td>Linear</td>\n",
       "      <td>-</td>\n",
       "      <td>0.383186</td>\n",
       "      <td>4.779281</td>\n",
       "      <td>1.679251</td>\n",
       "    </tr>\n",
       "    <tr>\n",
       "      <th>1</th>\n",
       "      <td>Linear</td>\n",
       "      <td>Linear</td>\n",
       "      <td>0.383186</td>\n",
       "      <td>4.779281</td>\n",
       "      <td>1.679251</td>\n",
       "    </tr>\n",
       "    <tr>\n",
       "      <th>2</th>\n",
       "      <td>Linear</td>\n",
       "      <td>Poly</td>\n",
       "      <td>0.909096</td>\n",
       "      <td>0.704351</td>\n",
       "      <td>0.682274</td>\n",
       "    </tr>\n",
       "    <tr>\n",
       "      <th>3</th>\n",
       "      <td>SVR</td>\n",
       "      <td>-</td>\n",
       "      <td>0.905745</td>\n",
       "      <td>0.730318</td>\n",
       "      <td>0.653486</td>\n",
       "    </tr>\n",
       "    <tr>\n",
       "      <th>4</th>\n",
       "      <td>SVR</td>\n",
       "      <td>Linear</td>\n",
       "      <td>0.905745</td>\n",
       "      <td>0.730318</td>\n",
       "      <td>0.653486</td>\n",
       "    </tr>\n",
       "    <tr>\n",
       "      <th>5</th>\n",
       "      <td>SVR</td>\n",
       "      <td>Poly</td>\n",
       "      <td>0.876809</td>\n",
       "      <td>0.954525</td>\n",
       "      <td>0.740362</td>\n",
       "    </tr>\n",
       "    <tr>\n",
       "      <th>6</th>\n",
       "      <td>Ridge</td>\n",
       "      <td>-</td>\n",
       "      <td>0.382917</td>\n",
       "      <td>4.781367</td>\n",
       "      <td>1.679236</td>\n",
       "    </tr>\n",
       "    <tr>\n",
       "      <th>7</th>\n",
       "      <td>Ridge</td>\n",
       "      <td>Linear</td>\n",
       "      <td>0.382618</td>\n",
       "      <td>4.783685</td>\n",
       "      <td>1.679219</td>\n",
       "    </tr>\n",
       "    <tr>\n",
       "      <th>8</th>\n",
       "      <td>Ridge</td>\n",
       "      <td>Poly</td>\n",
       "      <td>0.909576</td>\n",
       "      <td>0.700637</td>\n",
       "      <td>0.685456</td>\n",
       "    </tr>\n",
       "  </tbody>\n",
       "</table>\n",
       "</div>"
      ],
      "text/plain": [
       "    Model Features        R2       MSE       MAE\n",
       "0  Linear        -  0.383186  4.779281  1.679251\n",
       "1  Linear   Linear  0.383186  4.779281  1.679251\n",
       "2  Linear     Poly  0.909096  0.704351  0.682274\n",
       "3     SVR        -  0.905745  0.730318  0.653486\n",
       "4     SVR   Linear  0.905745  0.730318  0.653486\n",
       "5     SVR     Poly  0.876809  0.954525  0.740362\n",
       "6   Ridge        -  0.382917  4.781367  1.679236\n",
       "7   Ridge   Linear  0.382618  4.783685  1.679219\n",
       "8   Ridge     Poly  0.909576  0.700637  0.685456"
      ]
     },
     "execution_count": 73,
     "metadata": {},
     "output_type": "execute_result"
    }
   ],
   "source": [
    "results_df"
   ]
  },
  {
   "cell_type": "markdown",
   "metadata": {},
   "source": [
    "## Fiteo a mi mejor modelo con los datos completos de Xy_train.csv y luego calculo las Y_test"
   ]
  },
  {
   "cell_type": "markdown",
   "metadata": {},
   "source": [
    "#### Elijo el modelo Ridge Regression con features polinomicas escaladas!"
   ]
  },
  {
   "cell_type": "code",
   "execution_count": 134,
   "metadata": {},
   "outputs": [
    {
     "name": "stdout",
     "output_type": "stream",
     "text": [
      "Ridge(alpha=0.3) \n",
      "\n",
      "{'alpha': 0.3} \n",
      "\n",
      "-0.5805056665049971 \n",
      "\n"
     ]
    }
   ],
   "source": [
    "#Definimos estimador\n",
    "est = Ridge()\n",
    "#Defini\n",
    "gs = GridSearchCV(est, param_grid=parameters,refit=True, cv=n_folds, scoring=\"neg_mean_squared_error\")\n",
    "\n",
    "gs.fit(X_train_poly_scaled, Y_train)\n",
    "\n",
    "print(gs.best_estimator_, \"\\n\")\n",
    "print(gs.best_params_, \"\\n\")\n",
    "print(gs.best_score_, \"\\n\")"
   ]
  },
  {
   "cell_type": "code",
   "execution_count": 135,
   "metadata": {},
   "outputs": [
    {
     "data": {
      "text/plain": [
       "StandardScaler()"
      ]
     },
     "execution_count": 135,
     "metadata": {},
     "output_type": "execute_result"
    }
   ],
   "source": [
    "#escalo los datos de x_train para ingresarlos en el modelo\n",
    "# Definimos el escalador \n",
    "# # auto scaling train- set (mean = 0, std = 1)\n",
    "scaler = preprocessing.StandardScaler()\n",
    "scaler = scaler.fit(X_train) # Fiteamos para los X_train\n",
    "scaler\n"
   ]
  },
  {
   "cell_type": "code",
   "execution_count": 136,
   "metadata": {},
   "outputs": [],
   "source": [
    "# Transformamos los x_train y x_test\n",
    "X_train_scaled = scaler.transform(X_train)\n",
    "X_test_scaled = scaler.transform(X_test)\n",
    "\n",
    "# Aqui estamos agregando las features polinomicas LUEGO de escalar los datos\n",
    "grad_poly = 3\n",
    "X_train_poly_scaled = PolynomialFeatures(grad_poly).fit_transform(X_train_scaled)\n",
    "X_test_poly_scaled = PolynomialFeatures(grad_poly).fit_transform(X_test_scaled)"
   ]
  },
  {
   "cell_type": "code",
   "execution_count": 138,
   "metadata": {},
   "outputs": [
    {
     "data": {
      "text/plain": [
       "array([[3.59794376],\n",
       "       [3.60840019],\n",
       "       [7.81627344],\n",
       "       [5.05385621],\n",
       "       [5.15048238],\n",
       "       [3.67580301],\n",
       "       [7.09433922],\n",
       "       [0.1358571 ],\n",
       "       [9.70554027],\n",
       "       [5.14590734],\n",
       "       [5.098214  ],\n",
       "       [3.63069563],\n",
       "       [9.88926444],\n",
       "       [2.17615455],\n",
       "       [4.24837085],\n",
       "       [5.91702849],\n",
       "       [4.05785007],\n",
       "       [3.60511342],\n",
       "       [4.11877794],\n",
       "       [3.60552595]])"
      ]
     },
     "execution_count": 138,
     "metadata": {},
     "output_type": "execute_result"
    }
   ],
   "source": [
    "# Prediccion con todos los datos de X_test.csv\n",
    "poly_ridge_prediction_final = gs.best_estimator_.predict(X_test_poly_scaled)\n",
    "poly_ridge_prediction_final"
   ]
  },
  {
   "cell_type": "code",
   "execution_count": 139,
   "metadata": {},
   "outputs": [
    {
     "data": {
      "text/plain": [
       "array([[3.6 , 3.61, 7.82, 5.05, 5.15, 3.68, 7.09, 0.14, 9.71, 5.15, 5.1 ,\n",
       "        3.63, 9.89, 2.18, 4.25, 5.92, 4.06, 3.61, 4.12, 3.61]])"
      ]
     },
     "execution_count": 139,
     "metadata": {},
     "output_type": "execute_result"
    }
   ],
   "source": [
    "poly_ridge_prediction_final=np.array(poly_ridge_prediction_final)\n",
    "poly_ridge_prediction_final = poly_ridge_prediction_final.reshape(1,-1)\n",
    "poly_ridge_prediction_final = np.around(np.array(Y_test),decimals=2)\n",
    "poly_ridge_prediction_final"
   ]
  },
  {
   "cell_type": "code",
   "execution_count": 140,
   "metadata": {},
   "outputs": [
    {
     "name": "stdout",
     "output_type": "stream",
     "text": [
      "[[3.6, 3.61, 7.82, 5.05, 5.15, 3.68, 7.09, 0.14, 9.71, 5.15, 5.1, 3.63, 9.89, 2.18, 4.25, 5.92, 4.06, 3.61, 4.12, 3.61]]\n"
     ]
    }
   ],
   "source": [
    "#Paso los datos al formato requerido\n",
    "Y_test = poly_ridge_prediction_final.tolist()\n",
    "print(Y_test)"
   ]
  }
 ],
 "metadata": {
  "kernelspec": {
   "display_name": "Python 3",
   "language": "python",
   "name": "python3"
  },
  "language_info": {
   "codemirror_mode": {
    "name": "ipython",
    "version": 3
   },
   "file_extension": ".py",
   "mimetype": "text/x-python",
   "name": "python",
   "nbconvert_exporter": "python",
   "pygments_lexer": "ipython3",
   "version": "3.8.3"
  }
 },
 "nbformat": 4,
 "nbformat_minor": 4
}
